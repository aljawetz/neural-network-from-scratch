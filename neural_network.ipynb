{
  "nbformat": 4,
  "nbformat_minor": 0,
  "metadata": {
    "colab": {
      "name": "neural network.ipynb",
      "provenance": [],
      "collapsed_sections": [],
      "authorship_tag": "ABX9TyM5eWrcD61Fg+iaMjwVXLhI",
      "include_colab_link": true
    },
    "kernelspec": {
      "name": "python3",
      "display_name": "Python 3"
    }
  },
  "cells": [
    {
      "cell_type": "markdown",
      "metadata": {
        "id": "view-in-github",
        "colab_type": "text"
      },
      "source": [
        "<a href=\"https://colab.research.google.com/github/aljawetz/simple-neural-network-from-scratch/blob/master/neural_network.ipynb\" target=\"_parent\"><img src=\"https://colab.research.google.com/assets/colab-badge.svg\" alt=\"Open In Colab\"/></a>"
      ]
    },
    {
      "cell_type": "code",
      "metadata": {
        "id": "hGlNFMvLT3VS",
        "colab_type": "code",
        "colab": {}
      },
      "source": [
        "import numpy as np"
      ],
      "execution_count": 0,
      "outputs": []
    },
    {
      "cell_type": "code",
      "metadata": {
        "id": "H--WV7XeUIVb",
        "colab_type": "code",
        "colab": {}
      },
      "source": [
        "class FCLayer:\n",
        "  def __init__(self, input_size, output_size, activation=none):\n",
        "    self.input_size = input_size\n",
        "    self.output_size = output_size\n",
        "    self.activation = activation\n",
        "\n",
        "    self.weights = np.random.randn(input_size, output_size) / np.sqrt(input_size + output_size)\n",
        "    self.bias = np.random.randn(1, output_size) / np.sqrt(input_size + output_size)\n",
        "\n",
        "  def forward_propagation(self, input):\n",
        "    \"\"\"\n",
        "    Calculate the predicted output Y = XW + B\n",
        "    :param input: Given input\n",
        "    :return: Predicted output\n",
        "    \"\"\"\n",
        "    self.input = input\n",
        "    self.output = np.dot(self.input, self.weights) + self.bias\n",
        "    return self.activation(self.output)\n",
        "\n",
        "  def backward_propagation(self, output_error, learning_rate):\n",
        "    \"\"\"\n",
        "    Update weights and bias given the output_error\n",
        "    :param output_error: output_error = dE/dY\n",
        "    :param learning_rate: Step size at each iteration\n",
        "    :return: input_error = dE/dX\n",
        "    \"\"\"\n",
        "    output_error *= self.activation(self.output, deriv=True)  \n",
        "    # dE/dX = dE/dY @ Wt\n",
        "    input_error = np.dot(output_error, self.weights.T)\n",
        "    # dE/dW = Xt @ dE/dY\n",
        "    weights_error = np.dot(self.input.T, output_error)\n",
        "    # dE/dB = dE/dY\n",
        "    bias_error = output_error\n",
        "\n",
        "    # update parameters\n",
        "    self.weights -= learning_rate * weights_error\n",
        "    self.bias -= learning_rate * bias_error\n",
        "    return input_error\n"
      ],
      "execution_count": 0,
      "outputs": []
    },
    {
      "cell_type": "code",
      "metadata": {
        "id": "UqFGtE4TZVMX",
        "colab_type": "code",
        "colab": {}
      },
      "source": [
        "def sigmoid(x, deriv=False):\n",
        "  if deriv:\n",
        "    return np.exp(-x) / (1 + np.exp(-x))**2\n",
        "  return 1 / (1 + np.exp(-x))\n",
        "\n",
        "def tanh(x, deriv=False):\n",
        "  if deriv:\n",
        "    return 1 - np.tanh(x)**2\n",
        "  return np.tanh(x)\n",
        "\n",
        "def relu(x, deriv=False):\n",
        "  if deriv:\n",
        "    return np.array(x >= 0).astype('int')  \n",
        "  return np.maximum(x, 0)\n",
        "\n",
        "def none(x, deriv=False):\n",
        "  if deriv:\n",
        "    return 1\n",
        "  return x"
      ],
      "execution_count": 0,
      "outputs": []
    },
    {
      "cell_type": "code",
      "metadata": {
        "id": "JVudBIRsZfF6",
        "colab_type": "code",
        "colab": {}
      },
      "source": [
        "def mse(y_true, y_pred, deriv=False):\n",
        "  if deriv:\n",
        "    return 2 * (y_pred - y_true) / y_pred.size\n",
        "  return np.mean(np.power(y_true - y_pred, 2))\n",
        "\n",
        "def sse(y_true, y_pred, deriv=False):\n",
        "  if deriv:\n",
        "    return y_pred - y_true\n",
        "  return 0.5 * np.sum(np.power(y_true - y_pred, 2))"
      ],
      "execution_count": 0,
      "outputs": []
    },
    {
      "cell_type": "code",
      "metadata": {
        "id": "ioq3EZ-PZinT",
        "colab_type": "code",
        "colab": {}
      },
      "source": [
        "class Network:\n",
        "    def __init__(self):\n",
        "        self.layers = []\n",
        "        self.loss = None\n",
        "\n",
        "    # add layer to network\n",
        "    def add(self, layer):\n",
        "        self.layers.append(layer)\n",
        "\n",
        "    # set loss to use\n",
        "    def use(self, loss):\n",
        "        self.loss = loss\n",
        "\n",
        "    # predict output for given input\n",
        "    def predict(self, input_data):\n",
        "        # sample dimension first\n",
        "        samples = len(input_data)\n",
        "        result = []\n",
        "\n",
        "        # run network over all samples\n",
        "        for i in range(samples):\n",
        "            # forward propagation\n",
        "            output = input_data[i]\n",
        "            for layer in self.layers:\n",
        "                output = layer.forward_propagation(output)\n",
        "            result.append(output)\n",
        "\n",
        "        return result\n",
        "\n",
        "    # train the network\n",
        "    def fit(self, x_train, y_train, epochs, learning_rate):\n",
        "        # sample dimension first\n",
        "        samples = len(x_train)\n",
        "\n",
        "        # training loop\n",
        "        for i in range(epochs):\n",
        "            err = 0\n",
        "            for j in range(samples):\n",
        "                # forward propagation\n",
        "                output = x_train[j]\n",
        "                for layer in self.layers:\n",
        "                    output = layer.forward_propagation(output)\n",
        "\n",
        "                # compute loss (for display purpose only)\n",
        "                err += self.loss(y_train[j], output)\n",
        "\n",
        "                # backward propagation\n",
        "                error = self.loss(y_train[j], output, deriv=True)\n",
        "                for layer in reversed(self.layers):\n",
        "                    error = layer.backward_propagation(error, learning_rate)\n",
        "\n",
        "            # calculate average error on all samples\n",
        "            err /= samples\n",
        "            print('epoch %d/%d   error=%f' % (i+1, epochs, err))\n"
      ],
      "execution_count": 0,
      "outputs": []
    },
    {
      "cell_type": "code",
      "metadata": {
        "id": "_mjLl_awg6PD",
        "colab_type": "code",
        "colab": {
          "base_uri": "https://localhost:8080/",
          "height": 663
        },
        "outputId": "4e80592e-6feb-465d-b6e0-9fdbd138b880"
      },
      "source": [
        "from keras.datasets import mnist\n",
        "from keras.utils import np_utils\n",
        "\n",
        "# load MNIST from server\n",
        "(x_train, y_train), (x_test, y_test) = mnist.load_data()\n",
        "\n",
        "# training data : 60000 samples\n",
        "# reshape and normalize input data\n",
        "x_train = x_train.reshape(x_train.shape[0], 1, 28*28)\n",
        "x_train = x_train.astype('float32')\n",
        "x_train /= 255\n",
        "# encode output which is a number in range [0,9] into a vector of size 10\n",
        "# e.g. number 3 will become [0, 0, 0, 1, 0, 0, 0, 0, 0, 0]\n",
        "y_train = np_utils.to_categorical(y_train)\n",
        "\n",
        "# same for test data : 10000 samples\n",
        "x_test = x_test.reshape(x_test.shape[0], 1, 28*28)\n",
        "x_test = x_test.astype('float32')\n",
        "x_test /= 255\n",
        "y_test = np_utils.to_categorical(y_test)\n",
        "\n",
        "# Network\n",
        "net = Network()\n",
        "# input_shape=(1, 28*28)    ;   output_shape=(1, 100)\n",
        "net.add(FCLayer(28*28, 100, tanh))\n",
        "\n",
        "# input_shape=(1, 100)      ;   output_shape=(1, 50)\n",
        "net.add(FCLayer(100, 50, tanh))\n",
        "\n",
        "# input_shape=(1, 50)       ;   output_shape=(1, 10)\n",
        "net.add(FCLayer(50, 10, tanh))\n",
        "\n",
        "\n",
        "# train on 1000 samples\n",
        "# as we didn't implemented mini-batch GD, training will be pretty slow if we update at each iteration on 60000 samples...\n",
        "net.use(mse)\n",
        "net.fit(x_train[0:1000], y_train[0:1000], epochs=35, learning_rate=0.1)"
      ],
      "execution_count": 9,
      "outputs": [
        {
          "output_type": "stream",
          "text": [
            "Using TensorFlow backend.\n"
          ],
          "name": "stderr"
        },
        {
          "output_type": "stream",
          "text": [
            "Downloading data from https://s3.amazonaws.com/img-datasets/mnist.npz\n",
            "11493376/11490434 [==============================] - 2s 0us/step\n",
            "epoch 1/35   error=0.059217\n",
            "epoch 2/35   error=0.044429\n",
            "epoch 3/35   error=0.039019\n",
            "epoch 4/35   error=0.034334\n",
            "epoch 5/35   error=0.030350\n",
            "epoch 6/35   error=0.027007\n",
            "epoch 7/35   error=0.024159\n",
            "epoch 8/35   error=0.021719\n",
            "epoch 9/35   error=0.019642\n",
            "epoch 10/35   error=0.017882\n",
            "epoch 11/35   error=0.016384\n",
            "epoch 12/35   error=0.015093\n",
            "epoch 13/35   error=0.013964\n",
            "epoch 14/35   error=0.012964\n",
            "epoch 15/35   error=0.012069\n",
            "epoch 16/35   error=0.011262\n",
            "epoch 17/35   error=0.010530\n",
            "epoch 18/35   error=0.009863\n",
            "epoch 19/35   error=0.009254\n",
            "epoch 20/35   error=0.008696\n",
            "epoch 21/35   error=0.008184\n",
            "epoch 22/35   error=0.007713\n",
            "epoch 23/35   error=0.007280\n",
            "epoch 24/35   error=0.006882\n",
            "epoch 25/35   error=0.006513\n",
            "epoch 26/35   error=0.006172\n",
            "epoch 27/35   error=0.005856\n",
            "epoch 28/35   error=0.005562\n",
            "epoch 29/35   error=0.005287\n",
            "epoch 30/35   error=0.005030\n",
            "epoch 31/35   error=0.004789\n",
            "epoch 32/35   error=0.004564\n",
            "epoch 33/35   error=0.004352\n",
            "epoch 34/35   error=0.004153\n",
            "epoch 35/35   error=0.003965\n"
          ],
          "name": "stdout"
        }
      ]
    },
    {
      "cell_type": "code",
      "metadata": {
        "id": "GvyHUdfChzVB",
        "colab_type": "code",
        "colab": {
          "base_uri": "https://localhost:8080/",
          "height": 1000
        },
        "outputId": "9730f59f-7f4a-44cd-f2d6-24e4626e04d4"
      },
      "source": [
        "import matplotlib.pyplot as plt\n",
        "'''\n",
        "# test on 3 sample\n",
        "out = net.predict(x_test[0:3])\n",
        "print(\"\\n\")\n",
        "print(\"predicted values : \")\n",
        "print(out, end=\"\\n\")\n",
        "print(\"true values : \")\n",
        "print(y_test[0:3])\n",
        "'''\n",
        "samples = 5\n",
        "for test, true in zip(x_test[:samples], y_test[:samples]):\n",
        "    image = np.reshape(test, (28, 28))\n",
        "    plt.imshow(image, cmap='binary')\n",
        "    plt.show()\n",
        "    pred = net.predict(test)[0][0]\n",
        "    idx = np.argmax(pred)\n",
        "    idx_true = np.argmax(true)\n",
        "    print('pred: %s, prob: %.2f, true: %d' % (idx, pred[idx], idx_true))"
      ],
      "execution_count": 17,
      "outputs": [
        {
          "output_type": "display_data",
          "data": {
            "image/png": "[encoded data removed]",
            "text/plain": [
              "<Figure size 432x288 with 1 Axes>"
            ]
          },
          "metadata": {
            "tags": [],
            "needs_background": "light"
          }
        },
        {
          "output_type": "stream",
          "text": [
            "pred: 7, prob: 0.98, true: 7\n"
          ],
          "name": "stdout"
        },
        {
          "output_type": "display_data",
          "data": {
            "image/png": "[encoded data removed]",
            "text/plain": [
              "<Figure size 432x288 with 1 Axes>"
            ]
          },
          "metadata": {
            "tags": [],
            "needs_background": "light"
          }
        },
        {
          "output_type": "stream",
          "text": [
            "pred: 2, prob: 0.70, true: 2\n"
          ],
          "name": "stdout"
        },
        {
          "output_type": "display_data",
          "data": {
            "image/png": "[encoded data removed]",
            "text/plain": [
              "<Figure size 432x288 with 1 Axes>"
            ]
          },
          "metadata": {
            "tags": [],
            "needs_background": "light"
          }
        },
        {
          "output_type": "stream",
          "text": [
            "pred: 1, prob: 0.96, true: 1\n"
          ],
          "name": "stdout"
        },
        {
          "output_type": "display_data",
          "data": {
            "image/png": "[encoded data removed]",
            "text/plain": [
              "<Figure size 432x288 with 1 Axes>"
            ]
          },
          "metadata": {
            "tags": [],
            "needs_background": "light"
          }
        },
        {
          "output_type": "stream",
          "text": [
            "pred: 0, prob: 0.95, true: 0\n"
          ],
          "name": "stdout"
        },
        {
          "output_type": "display_data",
          "data": {
            "image/png": "[encoded data removed]",
            "text/plain": [
              "<Figure size 432x288 with 1 Axes>"
            ]
          },
          "metadata": {
            "tags": [],
            "needs_background": "light"
          }
        },
        {
          "output_type": "stream",
          "text": [
            "pred: 4, prob: 0.93, true: 4\n"
          ],
          "name": "stdout"
        }
      ]
    }
  ]
}